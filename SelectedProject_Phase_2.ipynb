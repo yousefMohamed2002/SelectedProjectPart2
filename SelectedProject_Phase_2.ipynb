{
  "nbformat": 4,
  "nbformat_minor": 0,
  "metadata": {
    "colab": {
      "provenance": [],
      "include_colab_link": true
    },
    "kernelspec": {
      "name": "python3",
      "display_name": "Python 3"
    },
    "language_info": {
      "name": "python"
    }
  },
  "cells": [
    {
      "cell_type": "markdown",
      "metadata": {
        "id": "view-in-github",
        "colab_type": "text"
      },
      "source": [
        "<a href=\"https://colab.research.google.com/github/yousefMohamed2002/SelectedProjectPart2/blob/karim/SelectedProject_Phase_2.ipynb\" target=\"_parent\"><img src=\"https://colab.research.google.com/assets/colab-badge.svg\" alt=\"Open In Colab\"/></a>"
      ]
    },
    {
      "cell_type": "code",
      "execution_count": null,
      "metadata": {
        "id": "25BE28XXqGN6"
      },
      "outputs": [],
      "source": [
        "import pandas as pd\n",
        "import numpy as np\n",
        "from sklearn.model_selection import StratifiedKFold\n",
        "from sklearn.preprocessing import StandardScaler\n",
        "from sklearn.metrics import accuracy_score, f1_score\n",
        "from sklearn.model_selection import train_test_split\n",
        "import torch\n",
        "import torch.nn as nn\n",
        "import torch.optim as optim\n",
        "from torch.utils.data import TensorDataset, DataLoader"
      ]
    },
    {
      "cell_type": "code",
      "source": [
        "from google.colab import drive\n",
        "drive.mount('/content/drive')"
      ],
      "metadata": {
        "colab": {
          "base_uri": "https://localhost:8080/"
        },
        "id": "VjJkWzklrwoy",
        "outputId": "9ff6b104-e781-4e5b-c04e-a80c6e3a836f"
      },
      "execution_count": null,
      "outputs": [
        {
          "output_type": "stream",
          "name": "stdout",
          "text": [
            "Drive already mounted at /content/drive; to attempt to forcibly remount, call drive.mount(\"/content/drive\", force_remount=True).\n"
          ]
        }
      ]
    },
    {
      "cell_type": "code",
      "source": [
        "df=pd.read_csv(\"/content/drive/MyDrive/diabetes_dataset.csv\")\n",
        "print(df.columns)\n",
        "X=df.drop(\"Outcome\",axis=1)\n",
        "y=df[\"Outcome\"]\n",
        "X_train,X_test,y_train,y_test=train_test_split(X,y,test_size=0.2,random_state=42,shuffle=True)\n",
        "# Normalize features\n",
        "scaler = StandardScaler()\n",
        "X = scaler.fit_transform(X)\n",
        "\n",
        "# Convert to PyTorch tensors\n",
        "X_tensor = torch.tensor(X, dtype=torch.float32)\n",
        "y_tensor = torch.tensor(y, dtype=torch.float32).view(-1, 1)\n"
      ],
      "metadata": {
        "colab": {
          "base_uri": "https://localhost:8080/"
        },
        "id": "bjG7HS-VqVuy",
        "outputId": "d0c1c53f-862f-4198-a6e0-b03b0c72d8a6"
      },
      "execution_count": null,
      "outputs": [
        {
          "output_type": "stream",
          "name": "stdout",
          "text": [
            "Index(['Age', 'Pregnancies', 'BMI', 'Glucose', 'BloodPressure', 'HbA1c', 'LDL',\n",
            "       'HDL', 'Triglycerides', 'WaistCircumference', 'HipCircumference', 'WHR',\n",
            "       'FamilyHistory', 'DietType', 'Hypertension', 'MedicationUse',\n",
            "       'Outcome'],\n",
            "      dtype='object')\n"
          ]
        }
      ]
    },
    {
      "cell_type": "code",
      "source": [
        "\n",
        "scaler = StandardScaler()\n",
        "X = scaler.fit_transform(X)\n",
        "\n",
        "# Convert to PyTorch tensors\n",
        "X_tensor = torch.tensor(X, dtype=torch.float32)\n",
        "y_tensor = torch.tensor(y, dtype=torch.float32).view(-1, 1)\n",
        "\n",
        "# Define a simple feedforward ANN model\n",
        "class ANNModel(nn.Module):\n",
        "    def __init__(self, input_dim):\n",
        "        super(ANNModel, self).__init__()\n",
        "        self.network = nn.Sequential(\n",
        "            nn.Linear(input_dim, 16),\n",
        "            nn.ReLU(),\n",
        "            nn.Linear(16, 8),\n",
        "            nn.ReLU(),\n",
        "            nn.Linear(8, 1),\n",
        "            nn.Sigmoid()\n",
        "        )\n",
        "\n",
        "    def forward(self, x):\n",
        "        return self.network(x)\n",
        "from sklearn.metrics import precision_score\n",
        "\n",
        "# Cross-validation setup\n",
        "skf = StratifiedKFold(n_splits=5, shuffle=True, random_state=42)\n",
        "accuracies = []\n",
        "f1_scores = []\n",
        "precisions = []\n",
        "\n",
        "# Train and evaluate in each fold\n",
        "for fold, (train_idx, val_idx) in enumerate(skf.split(X, y), 1):\n",
        "    X_train, X_val = X_tensor[train_idx], X_tensor[val_idx]\n",
        "    y_train, y_val = y_tensor[train_idx], y_tensor[val_idx]\n",
        "\n",
        "    train_ds = TensorDataset(X_train, y_train)\n",
        "    train_loader = DataLoader(train_ds, batch_size=32, shuffle=True)\n",
        "\n",
        "    model = ANNModel(X.shape[1])\n",
        "    criterion = nn.BCELoss()\n",
        "    optimizer = optim.Adam(model.parameters(), lr=0.001)\n",
        "\n",
        "    # Training loop\n",
        "    for epoch in range(50):\n",
        "        model.train()\n",
        "        for xb, yb in train_loader:\n",
        "            preds = model(xb)\n",
        "            loss = criterion(preds, yb)\n",
        "            optimizer.zero_grad()\n",
        "            loss.backward()\n",
        "            optimizer.step()\n",
        "\n",
        "\n",
        "    model.eval()\n",
        "    with torch.no_grad():\n",
        "        y_pred = model(X_val).round().numpy()\n",
        "        acc = accuracy_score(y_val, y_pred)\n",
        "        f1 = f1_score(y_val, y_pred)\n",
        "        precision = precision_score(y_val, y_pred)\n",
        "\n",
        "        accuracies.append(acc)\n",
        "        f1_scores.append(f1)\n",
        "        precisions.append(precision)\n",
        "\n",
        "        print(f\"Fold {fold}: Accuracy = {acc:.4f}, F1 Score = {f1:.4f}, Precision = {precision:.4f}\")"
      ],
      "metadata": {
        "id": "rJA9dvkwiDJ3",
        "colab": {
          "base_uri": "https://localhost:8080/"
        },
        "outputId": "33302266-c9d9-462d-8d24-ae3085765878"
      },
      "execution_count": null,
      "outputs": [
        {
          "output_type": "stream",
          "name": "stdout",
          "text": [
            "Fold 1: Accuracy = 0.9974, F1 Score = 0.9962, Precision = 0.9954\n",
            "Fold 2: Accuracy = 0.9958, F1 Score = 0.9939, Precision = 0.9969\n",
            "Fold 3: Accuracy = 0.9979, F1 Score = 0.9969, Precision = 1.0000\n",
            "Fold 4: Accuracy = 0.9958, F1 Score = 0.9939, Precision = 0.9939\n",
            "Fold 5: Accuracy = 0.9953, F1 Score = 0.9931, Precision = 0.9954\n"
          ]
        }
      ]
    },
    {
      "cell_type": "code",
      "source": [
        "print(\"\\n=== Cross-Validation Summary ===\")\n",
        "print(f\"Average Accuracy: {np.mean(accuracies):.4f}\")\n",
        "print(f\"Average F1 Score: {np.mean(f1_scores):.4f}\")\n",
        "print(f\"Average Precision: {np.mean(precisions):.4f}\")\n"
      ],
      "metadata": {
        "colab": {
          "base_uri": "https://localhost:8080/"
        },
        "id": "iq76jl83kqbk",
        "outputId": "abe2149a-b867-4891-db47-b6493c30c33d"
      },
      "execution_count": null,
      "outputs": [
        {
          "output_type": "stream",
          "name": "stdout",
          "text": [
            "\n",
            "=== Cross-Validation Summary ===\n",
            "Average Accuracy: 0.9961\n",
            "Average F1 Score: 0.9944\n",
            "Average Precision: 0.9924\n"
          ]
        }
      ]
    },
    {
      "cell_type": "code",
      "source": [
        "avg_scores = {\n",
        "    \"Accuracy\": np.mean(accuracies),\n",
        "    \"F1 Score\": np.mean(f1_scores),\n",
        "    \"Precision\": np.mean(precisions)\n",
        "}\n",
        "\n",
        "\n",
        "plt.figure(figsize=(6, 4))\n",
        "plt.bar(avg_scores.keys(), avg_scores.values(), width=0.4)\n",
        "plt.ylim(0, 1)\n",
        "plt.title(\"Average ANN Performance Metrics\")\n",
        "plt.ylabel(\"Score\")\n",
        "plt.grid(axis='y')\n",
        "plt.show()"
      ],
      "metadata": {
        "colab": {
          "base_uri": "https://localhost:8080/",
          "height": 391
        },
        "id": "-0Dh6YCzs0h-",
        "outputId": "a2374c5f-294a-4999-e807-8f82bef00fdb"
      },
      "execution_count": null,
      "outputs": [
        {
          "output_type": "display_data",
          "data": {
            "text/plain": [
              "<Figure size 600x400 with 1 Axes>"
            ],
            "image/png": "[encoded data removed]"
          },
          "metadata": {}
        }
      ]
    },
    {
      "cell_type": "code",
      "source": [
        "6"
      ],
      "metadata": {
        "id": "opsSdB5ns1nS"
      },
      "execution_count": null,
      "outputs": []
    }
  ]
}